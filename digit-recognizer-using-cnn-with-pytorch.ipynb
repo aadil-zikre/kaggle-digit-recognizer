{
 "cells": [
  {
   "cell_type": "markdown",
   "id": "332b6e3f",
   "metadata": {
    "papermill": {
     "duration": 0.010897,
     "end_time": "2022-09-18T03:33:23.277608",
     "exception": false,
     "start_time": "2022-09-18T03:33:23.266711",
     "status": "completed"
    },
    "tags": []
   },
   "source": [
    "### Libraries"
   ]
  },
  {
   "cell_type": "code",
   "execution_count": 1,
   "id": "fcf27ce7",
   "metadata": {
    "ExecuteTime": {
     "end_time": "2022-09-17T17:51:55.067878Z",
     "start_time": "2022-09-17T17:51:53.669092Z"
    },
    "execution": {
     "iopub.execute_input": "2022-09-18T03:33:23.298796Z",
     "iopub.status.busy": "2022-09-18T03:33:23.298246Z",
     "iopub.status.idle": "2022-09-18T03:33:25.816050Z",
     "shell.execute_reply": "2022-09-18T03:33:25.815096Z"
    },
    "papermill": {
     "duration": 2.531269,
     "end_time": "2022-09-18T03:33:25.818556",
     "exception": false,
     "start_time": "2022-09-18T03:33:23.287287",
     "status": "completed"
    },
    "tags": []
   },
   "outputs": [],
   "source": [
    "# from az_common_funcs import *\n",
    "import pandas as pd\n",
    "import numpy as np\n",
    "import random\n",
    "import matplotlib.pyplot as plt\n",
    "\n",
    "import torch\n",
    "from torch.autograd import Variable\n",
    "\n",
    "import seaborn as sns\n",
    "sns.set_theme(style='darkgrid')"
   ]
  },
  {
   "cell_type": "code",
   "execution_count": 2,
   "id": "06bd245c",
   "metadata": {
    "ExecuteTime": {
     "end_time": "2022-09-17T17:51:55.778789Z",
     "start_time": "2022-09-17T17:51:55.769143Z"
    },
    "execution": {
     "iopub.execute_input": "2022-09-18T03:33:25.840843Z",
     "iopub.status.busy": "2022-09-18T03:33:25.840384Z",
     "iopub.status.idle": "2022-09-18T03:33:25.912838Z",
     "shell.execute_reply": "2022-09-18T03:33:25.911680Z"
    },
    "papermill": {
     "duration": 0.086869,
     "end_time": "2022-09-18T03:33:25.915019",
     "exception": false,
     "start_time": "2022-09-18T03:33:25.828150",
     "status": "completed"
    },
    "tags": []
   },
   "outputs": [
    {
     "data": {
      "text/plain": [
       "device(type='cuda')"
      ]
     },
     "execution_count": 2,
     "metadata": {},
     "output_type": "execute_result"
    }
   ],
   "source": [
    "device = torch.device(\"cuda\" if torch.cuda.is_available() else \"cpu\")\n",
    "device"
   ]
  },
  {
   "cell_type": "markdown",
   "id": "00e9c9ff",
   "metadata": {
    "papermill": {
     "duration": 0.009327,
     "end_time": "2022-09-18T03:33:25.933865",
     "exception": false,
     "start_time": "2022-09-18T03:33:25.924538",
     "status": "completed"
    },
    "tags": []
   },
   "source": [
    "### Importing Competition DataSets"
   ]
  },
  {
   "cell_type": "code",
   "execution_count": 3,
   "id": "17853321",
   "metadata": {
    "ExecuteTime": {
     "end_time": "2022-09-17T17:52:00.824100Z",
     "start_time": "2022-09-17T17:51:58.555056Z"
    },
    "execution": {
     "iopub.execute_input": "2022-09-18T03:33:25.954142Z",
     "iopub.status.busy": "2022-09-18T03:33:25.953863Z",
     "iopub.status.idle": "2022-09-18T03:33:31.041565Z",
     "shell.execute_reply": "2022-09-18T03:33:31.040602Z"
    },
    "papermill": {
     "duration": 5.100692,
     "end_time": "2022-09-18T03:33:31.044103",
     "exception": false,
     "start_time": "2022-09-18T03:33:25.943411",
     "status": "completed"
    },
    "tags": []
   },
   "outputs": [],
   "source": [
    "df_main = pd.read_csv(\"../input/digit-recognizer/train.csv\")\n",
    "df_submission = pd.read_csv('../input/digit-recognizer/test.csv')"
   ]
  },
  {
   "cell_type": "markdown",
   "id": "cdf5910e",
   "metadata": {
    "papermill": {
     "duration": 0.009454,
     "end_time": "2022-09-18T03:33:31.064015",
     "exception": false,
     "start_time": "2022-09-18T03:33:31.054561",
     "status": "completed"
    },
    "tags": []
   },
   "source": [
    "### Preprocessing and Data Exploration"
   ]
  },
  {
   "cell_type": "code",
   "execution_count": 4,
   "id": "dbc1f0ab",
   "metadata": {
    "ExecuteTime": {
     "end_time": "2022-09-17T17:52:00.958629Z",
     "start_time": "2022-09-17T17:52:00.942669Z"
    },
    "execution": {
     "iopub.execute_input": "2022-09-18T03:33:31.084318Z",
     "iopub.status.busy": "2022-09-18T03:33:31.084025Z",
     "iopub.status.idle": "2022-09-18T03:33:31.122307Z",
     "shell.execute_reply": "2022-09-18T03:33:31.121466Z"
    },
    "papermill": {
     "duration": 0.051145,
     "end_time": "2022-09-18T03:33:31.124526",
     "exception": false,
     "start_time": "2022-09-18T03:33:31.073381",
     "status": "completed"
    },
    "tags": []
   },
   "outputs": [],
   "source": [
    "# index_to_split_on = list(range(df_main.shape[0]))\n",
    "# random.shuffle(a)\n",
    "\n",
    "random.seed(30)\n",
    "index_to_split_on = random.sample(range(df_main.shape[0]), k = int(0.9 * df_main.shape[0]))"
   ]
  },
  {
   "cell_type": "code",
   "execution_count": 5,
   "id": "10a5f966",
   "metadata": {
    "ExecuteTime": {
     "end_time": "2022-09-17T17:52:01.277309Z",
     "start_time": "2022-09-17T17:52:01.007557Z"
    },
    "execution": {
     "iopub.execute_input": "2022-09-18T03:33:31.145953Z",
     "iopub.status.busy": "2022-09-18T03:33:31.145629Z",
     "iopub.status.idle": "2022-09-18T03:33:31.463489Z",
     "shell.execute_reply": "2022-09-18T03:33:31.462341Z"
    },
    "papermill": {
     "duration": 0.331527,
     "end_time": "2022-09-18T03:33:31.466000",
     "exception": false,
     "start_time": "2022-09-18T03:33:31.134473",
     "status": "completed"
    },
    "tags": []
   },
   "outputs": [],
   "source": [
    "df_train = df_main.iloc[index_to_split_on].reset_index(drop = True)\n",
    "df_test = df_main.drop(index_to_split_on, axis = 0).reset_index(drop = True)"
   ]
  },
  {
   "cell_type": "code",
   "execution_count": 6,
   "id": "2d31a48a",
   "metadata": {
    "ExecuteTime": {
     "end_time": "2022-09-17T17:52:01.372458Z",
     "start_time": "2022-09-17T17:52:01.370298Z"
    },
    "execution": {
     "iopub.execute_input": "2022-09-18T03:33:31.486745Z",
     "iopub.status.busy": "2022-09-18T03:33:31.486442Z",
     "iopub.status.idle": "2022-09-18T03:33:31.493113Z",
     "shell.execute_reply": "2022-09-18T03:33:31.492174Z"
    },
    "papermill": {
     "duration": 0.019272,
     "end_time": "2022-09-18T03:33:31.495106",
     "exception": false,
     "start_time": "2022-09-18T03:33:31.475834",
     "status": "completed"
    },
    "tags": []
   },
   "outputs": [],
   "source": [
    "train = df_train.iloc[:,0].to_frame()"
   ]
  },
  {
   "cell_type": "code",
   "execution_count": 7,
   "id": "e44bb324",
   "metadata": {
    "ExecuteTime": {
     "end_time": "2022-09-17T17:52:01.900122Z",
     "start_time": "2022-09-17T17:52:01.872885Z"
    },
    "execution": {
     "iopub.execute_input": "2022-09-18T03:33:31.516186Z",
     "iopub.status.busy": "2022-09-18T03:33:31.515444Z",
     "iopub.status.idle": "2022-09-18T03:33:31.536416Z",
     "shell.execute_reply": "2022-09-18T03:33:31.535560Z"
    },
    "papermill": {
     "duration": 0.033807,
     "end_time": "2022-09-18T03:33:31.538648",
     "exception": false,
     "start_time": "2022-09-18T03:33:31.504841",
     "status": "completed"
    },
    "tags": []
   },
   "outputs": [],
   "source": [
    "train['pixels'] = list(df_train.iloc[:,1:].values)"
   ]
  },
  {
   "cell_type": "code",
   "execution_count": 8,
   "id": "3bf9949a",
   "metadata": {
    "ExecuteTime": {
     "end_time": "2022-09-17T17:52:02.696701Z",
     "start_time": "2022-09-17T17:52:02.666697Z"
    },
    "execution": {
     "iopub.execute_input": "2022-09-18T03:33:31.559974Z",
     "iopub.status.busy": "2022-09-18T03:33:31.559684Z",
     "iopub.status.idle": "2022-09-18T03:33:31.580349Z",
     "shell.execute_reply": "2022-09-18T03:33:31.578738Z"
    },
    "papermill": {
     "duration": 0.033893,
     "end_time": "2022-09-18T03:33:31.582465",
     "exception": false,
     "start_time": "2022-09-18T03:33:31.548572",
     "status": "completed"
    },
    "tags": []
   },
   "outputs": [
    {
     "name": "stdout",
     "output_type": "stream",
     "text": [
      "<class 'pandas.core.frame.DataFrame'>\n",
      "RangeIndex: 37800 entries, 0 to 37799\n",
      "Data columns (total 2 columns):\n",
      " #   Column  Non-Null Count  Dtype \n",
      "---  ------  --------------  ----- \n",
      " 0   label   37800 non-null  int64 \n",
      " 1   pixels  37800 non-null  object\n",
      "dtypes: int64(1), object(1)\n",
      "memory usage: 590.8+ KB\n"
     ]
    }
   ],
   "source": [
    "train.info()"
   ]
  },
  {
   "cell_type": "code",
   "execution_count": 9,
   "id": "104dc7b5",
   "metadata": {
    "ExecuteTime": {
     "end_time": "2022-09-17T17:52:03.312275Z",
     "start_time": "2022-09-17T17:52:03.307164Z"
    },
    "execution": {
     "iopub.execute_input": "2022-09-18T03:33:31.603395Z",
     "iopub.status.busy": "2022-09-18T03:33:31.603110Z",
     "iopub.status.idle": "2022-09-18T03:33:31.607331Z",
     "shell.execute_reply": "2022-09-18T03:33:31.606303Z"
    },
    "papermill": {
     "duration": 0.017211,
     "end_time": "2022-09-18T03:33:31.609534",
     "exception": false,
     "start_time": "2022-09-18T03:33:31.592323",
     "status": "completed"
    },
    "tags": []
   },
   "outputs": [],
   "source": [
    "# rows = iter(train[train.label == 0].index)\n",
    "rows = iter(train.index)"
   ]
  },
  {
   "cell_type": "code",
   "execution_count": 10,
   "id": "701ab520",
   "metadata": {
    "ExecuteTime": {
     "end_time": "2022-09-17T17:52:04.397594Z",
     "start_time": "2022-09-17T17:52:04.070770Z"
    },
    "execution": {
     "iopub.execute_input": "2022-09-18T03:33:31.629773Z",
     "iopub.status.busy": "2022-09-18T03:33:31.629488Z",
     "iopub.status.idle": "2022-09-18T03:33:32.410684Z",
     "shell.execute_reply": "2022-09-18T03:33:32.409783Z"
    },
    "papermill": {
     "duration": 0.793544,
     "end_time": "2022-09-18T03:33:32.412627",
     "exception": false,
     "start_time": "2022-09-18T03:33:31.619083",
     "status": "completed"
    },
    "tags": []
   },
   "outputs": [
    {
     "data": {
      "image/png": "[encoded data removed]",
      "text/plain": [
       "<Figure size 720x720 with 25 Axes>"
      ]
     },
     "metadata": {},
     "output_type": "display_data"
    }
   ],
   "source": [
    "# row = 45\n",
    "# plt.title(f\"Label == {train.loc[row,'label']}\")\n",
    "# plt.imshow(train.loc[row,'pixels'].reshape(28,28,1))\n",
    "\n",
    "plt.figure(figsize=(10,10)) # specifying the overall grid size\n",
    "\n",
    "for i in range(25):\n",
    "    plt.subplot(5,5,i+1)    # the number of images in the grid is 5*5 (25)\n",
    "    row = next(rows)\n",
    "    plt.title(f\"Label == {train.loc[row,'label']}\", y = -0.2)\n",
    "    plt.imshow(train.loc[row,'pixels'].reshape(28,28,1))\n",
    "    plt.axis('off')\n",
    "\n",
    "    \n",
    "plt.subplots_adjust(left=0.1,\n",
    "                    bottom=0.1, \n",
    "                    right=0.9, \n",
    "                    top=0.9, \n",
    "                    wspace=0.2, \n",
    "                    hspace=0.2)\n",
    "plt.show()"
   ]
  },
  {
   "cell_type": "markdown",
   "id": "87d9da8e",
   "metadata": {
    "papermill": {
     "duration": 0.010338,
     "end_time": "2022-09-18T03:33:32.433454",
     "exception": false,
     "start_time": "2022-09-18T03:33:32.423116",
     "status": "completed"
    },
    "tags": []
   },
   "source": [
    "### Model 2 Training and Results\n",
    "1. Model : CNN\n",
    "2. Padding : True\n",
    "3. Pooling : True\n",
    "4. Layers : 8 Layers\n",
    "5. Dropout : 0.1"
   ]
  },
  {
   "cell_type": "code",
   "execution_count": 11,
   "id": "254b18a8",
   "metadata": {
    "ExecuteTime": {
     "end_time": "2022-09-17T17:52:06.285135Z",
     "start_time": "2022-09-17T17:52:06.274493Z"
    },
    "execution": {
     "iopub.execute_input": "2022-09-18T03:33:32.455704Z",
     "iopub.status.busy": "2022-09-18T03:33:32.455155Z",
     "iopub.status.idle": "2022-09-18T03:33:32.462500Z",
     "shell.execute_reply": "2022-09-18T03:33:32.461662Z"
    },
    "papermill": {
     "duration": 0.020553,
     "end_time": "2022-09-18T03:33:32.464740",
     "exception": false,
     "start_time": "2022-09-18T03:33:32.444187",
     "status": "completed"
    },
    "tags": []
   },
   "outputs": [],
   "source": [
    "class MyDataset():\n",
    "    def __init__(self, df_input):\n",
    "        \n",
    "        x = df_input.iloc[:,1:].values\n",
    "        y = df_input.iloc[:,0].values\n",
    "        \n",
    "        self.x_train = torch.tensor(x, dtype=torch.float32)\n",
    "        self.y_train = torch.tensor(y, dtype=torch.int32)\n",
    "        \n",
    "    def __len__(self):\n",
    "        return len(self.y_train)\n",
    "    \n",
    "    def __getitem__(self,idx):\n",
    "        return self.x_train[idx], self.y_train[idx]\n",
    "    \n",
    "    def __shape_of_xy__(self):\n",
    "        print(f\"size of x : {self.x_train.size()}\")\n",
    "        print(f\"size of y : {self.y_train.size()}\")"
   ]
  },
  {
   "cell_type": "code",
   "execution_count": 12,
   "id": "8d39469c",
   "metadata": {
    "ExecuteTime": {
     "end_time": "2022-09-17T17:52:06.793369Z",
     "start_time": "2022-09-17T17:52:06.788068Z"
    },
    "execution": {
     "iopub.execute_input": "2022-09-18T03:33:32.485505Z",
     "iopub.status.busy": "2022-09-18T03:33:32.485248Z",
     "iopub.status.idle": "2022-09-18T03:33:32.490122Z",
     "shell.execute_reply": "2022-09-18T03:33:32.489125Z"
    },
    "papermill": {
     "duration": 0.017718,
     "end_time": "2022-09-18T03:33:32.492394",
     "exception": false,
     "start_time": "2022-09-18T03:33:32.474676",
     "status": "completed"
    },
    "tags": []
   },
   "outputs": [],
   "source": [
    "def compute_accuracy(Y, Y_pred):\n",
    "    Y_pred = Y_pred.data.max(dim=1)[1]\n",
    "    \n",
    "    acc = (Y == Y_pred).float().mean() \n",
    "    \n",
    "    # Explanation Example\n",
    "    # (torch.tensor(np.array([1,2,3,4,5])) == torch.tensor(np.array([1,2,4,6,5]))).float().mean().item()\n",
    "    \n",
    "    return acc.item()"
   ]
  },
  {
   "cell_type": "code",
   "execution_count": 13,
   "id": "b5015be2",
   "metadata": {
    "execution": {
     "iopub.execute_input": "2022-09-18T03:33:32.513116Z",
     "iopub.status.busy": "2022-09-18T03:33:32.512834Z",
     "iopub.status.idle": "2022-09-18T03:33:32.517456Z",
     "shell.execute_reply": "2022-09-18T03:33:32.516602Z"
    },
    "papermill": {
     "duration": 0.017156,
     "end_time": "2022-09-18T03:33:32.519334",
     "exception": false,
     "start_time": "2022-09-18T03:33:32.502178",
     "status": "completed"
    },
    "tags": []
   },
   "outputs": [],
   "source": [
    "def compute_accuracy_no_calc(Y, Y_pred):\n",
    "    \n",
    "    acc = (Y == Y_pred).float().mean() \n",
    "    \n",
    "    # Explanation Example\n",
    "    # (torch.tensor(np.array([1,2,3,4,5])) == torch.tensor(np.array([1,2,4,6,5]))).float().mean().item()\n",
    "    \n",
    "    return acc.item()"
   ]
  },
  {
   "cell_type": "code",
   "execution_count": 14,
   "id": "2361f0a8",
   "metadata": {
    "ExecuteTime": {
     "end_time": "2022-09-17T17:52:07.591693Z",
     "start_time": "2022-09-17T17:52:07.568038Z"
    },
    "execution": {
     "iopub.execute_input": "2022-09-18T03:33:32.540907Z",
     "iopub.status.busy": "2022-09-18T03:33:32.540610Z",
     "iopub.status.idle": "2022-09-18T03:33:32.556197Z",
     "shell.execute_reply": "2022-09-18T03:33:32.555300Z"
    },
    "papermill": {
     "duration": 0.028949,
     "end_time": "2022-09-18T03:33:32.558196",
     "exception": false,
     "start_time": "2022-09-18T03:33:32.529247",
     "status": "completed"
    },
    "tags": []
   },
   "outputs": [],
   "source": [
    "class CNN_2(torch.nn.Module):\n",
    "    \n",
    "    def __init__(self, keep_prob):\n",
    "        \n",
    "        super(CNN_2, self).__init__()\n",
    "        \n",
    "        self.keep_prob = keep_prob\n",
    "        # Layer 1\n",
    "        # I : (?, 1, 28, 28)\n",
    "        # O : (?, 32, 14,14)\n",
    "        # size(o) : (n + 2p - f)/s + 1\n",
    "        self.cnn_layer_1 = torch.nn.Sequential(torch.nn.Conv2d(1, 32, kernel_size = 3, padding = 1, stride = 1),\n",
    "                                               torch.nn.ReLU(),\n",
    "                                               torch.nn.MaxPool2d(kernel_size = 2, stride = 2),\n",
    "                                               torch.nn.Dropout(p = 1 - self.keep_prob)\n",
    "                                              )\n",
    "        \n",
    "        # Layer 2\n",
    "        # I : (?, 32, 14, 14)\n",
    "        # O : (?, 64, 7, 7)\n",
    "        # size(o) : (n + 2p - f)/s + 1\n",
    "        self.cnn_layer_2 = torch.nn.Sequential(torch.nn.Conv2d(32, 64, kernel_size = 3, padding = 1, stride = 1),\n",
    "                                               torch.nn.ReLU(),\n",
    "                                               torch.nn.MaxPool2d(kernel_size = 2, stride = 2),\n",
    "                                               torch.nn.Dropout(p = 1 - self.keep_prob)\n",
    "                                              )\n",
    "        \n",
    "        # Layer 3\n",
    "        # I : (?, 64, 7, 7)\n",
    "        # O : (?, 128, 7, 7)\n",
    "        # size(o) : (n + 2p - f)/s + 1\n",
    "        self.cnn_layer_3 = torch.nn.Sequential(torch.nn.Conv2d(64, 128, kernel_size = 3, padding = 1, stride = 1),\n",
    "                                               torch.nn.ReLU(),\n",
    "                                               torch.nn.Dropout(p = 1 - self.keep_prob)\n",
    "                                              )\n",
    "        \n",
    "        # Layer 4\n",
    "        # I : (?, 128, 7, 7)\n",
    "        # O : (?, 256, 2, 2)\n",
    "        # size(o) : (n + 2p - f)/s + 1\n",
    "        self.cnn_layer_4 = torch.nn.Sequential(torch.nn.Conv2d(128, 256, kernel_size = 3, padding = 1, stride = 2),\n",
    "                                               torch.nn.ReLU(),\n",
    "                                               torch.nn.MaxPool2d(kernel_size = 2, stride = 2),\n",
    "                                               torch.nn.Dropout(p = 1 - self.keep_prob)\n",
    "                                              )\n",
    "        \n",
    "        # Layer 5\n",
    "        # I : (?, 256, 2, 2)\n",
    "        # O : (?, 1024)\n",
    "        self.flatten_layer_1 = torch.nn.Sequential(torch.nn.Flatten())\n",
    "        \n",
    "        \n",
    "        # Layer 6\n",
    "        # I : (?, 1024)\n",
    "        # O : (?, 512)\n",
    "        self.fc_layer_1 = torch.nn.Sequential(torch.nn.Linear(1024, 512),\n",
    "                                              torch.nn.ReLU(),\n",
    "                                              torch.nn.Dropout(p = 1 - self.keep_prob)\n",
    "                                             )\n",
    "\n",
    "        # Layer 7\n",
    "        # I : (?, 512)\n",
    "        # O : (?, 250)\n",
    "        self.fc_layer_2 = torch.nn.Sequential(torch.nn.Linear(512, 250),\n",
    "                                              torch.nn.ReLU(),\n",
    "                                              torch.nn.Dropout(p = 1 - self.keep_prob)\n",
    "                                             )\n",
    "        \n",
    "        # Layer 8\n",
    "        # I : (?, 512)\n",
    "        # O : (?, 250)\n",
    "        self.fc_layer_3 = torch.nn.Sequential(torch.nn.Linear(250, 10))\n",
    "        \n",
    "    \n",
    "    def forward(self,x):\n",
    "        a = self.cnn_layer_1(x)\n",
    "        a = self.cnn_layer_2(a)\n",
    "        a = self.cnn_layer_3(a)\n",
    "        a = self.cnn_layer_4(a)\n",
    "        a = self.flatten_layer_1(a)\n",
    "        a = self.fc_layer_1(a)\n",
    "        a = self.fc_layer_2(a)\n",
    "        a = self.fc_layer_3(a)\n",
    "        \n",
    "        return a"
   ]
  },
  {
   "cell_type": "code",
   "execution_count": 15,
   "id": "0d84b253",
   "metadata": {
    "ExecuteTime": {
     "end_time": "2022-09-17T17:52:09.280389Z",
     "start_time": "2022-09-17T17:52:09.251339Z"
    },
    "execution": {
     "iopub.execute_input": "2022-09-18T03:33:32.579674Z",
     "iopub.status.busy": "2022-09-18T03:33:32.578907Z",
     "iopub.status.idle": "2022-09-18T03:33:35.330690Z",
     "shell.execute_reply": "2022-09-18T03:33:35.329820Z"
    },
    "papermill": {
     "duration": 2.764753,
     "end_time": "2022-09-18T03:33:35.332841",
     "exception": false,
     "start_time": "2022-09-18T03:33:32.568088",
     "status": "completed"
    },
    "tags": []
   },
   "outputs": [
    {
     "data": {
      "text/plain": [
       "CNN_2(\n",
       "  (cnn_layer_1): Sequential(\n",
       "    (0): Conv2d(1, 32, kernel_size=(3, 3), stride=(1, 1), padding=(1, 1))\n",
       "    (1): ReLU()\n",
       "    (2): MaxPool2d(kernel_size=2, stride=2, padding=0, dilation=1, ceil_mode=False)\n",
       "    (3): Dropout(p=0.09999999999999998, inplace=False)\n",
       "  )\n",
       "  (cnn_layer_2): Sequential(\n",
       "    (0): Conv2d(32, 64, kernel_size=(3, 3), stride=(1, 1), padding=(1, 1))\n",
       "    (1): ReLU()\n",
       "    (2): MaxPool2d(kernel_size=2, stride=2, padding=0, dilation=1, ceil_mode=False)\n",
       "    (3): Dropout(p=0.09999999999999998, inplace=False)\n",
       "  )\n",
       "  (cnn_layer_3): Sequential(\n",
       "    (0): Conv2d(64, 128, kernel_size=(3, 3), stride=(1, 1), padding=(1, 1))\n",
       "    (1): ReLU()\n",
       "    (2): Dropout(p=0.09999999999999998, inplace=False)\n",
       "  )\n",
       "  (cnn_layer_4): Sequential(\n",
       "    (0): Conv2d(128, 256, kernel_size=(3, 3), stride=(2, 2), padding=(1, 1))\n",
       "    (1): ReLU()\n",
       "    (2): MaxPool2d(kernel_size=2, stride=2, padding=0, dilation=1, ceil_mode=False)\n",
       "    (3): Dropout(p=0.09999999999999998, inplace=False)\n",
       "  )\n",
       "  (flatten_layer_1): Sequential(\n",
       "    (0): Flatten(start_dim=1, end_dim=-1)\n",
       "  )\n",
       "  (fc_layer_1): Sequential(\n",
       "    (0): Linear(in_features=1024, out_features=512, bias=True)\n",
       "    (1): ReLU()\n",
       "    (2): Dropout(p=0.09999999999999998, inplace=False)\n",
       "  )\n",
       "  (fc_layer_2): Sequential(\n",
       "    (0): Linear(in_features=512, out_features=250, bias=True)\n",
       "    (1): ReLU()\n",
       "    (2): Dropout(p=0.09999999999999998, inplace=False)\n",
       "  )\n",
       "  (fc_layer_3): Sequential(\n",
       "    (0): Linear(in_features=250, out_features=10, bias=True)\n",
       "  )\n",
       ")"
      ]
     },
     "execution_count": 15,
     "metadata": {},
     "output_type": "execute_result"
    }
   ],
   "source": [
    "model = CNN_2(0.9)\n",
    "model.to(device)\n",
    "model"
   ]
  },
  {
   "cell_type": "code",
   "execution_count": 16,
   "id": "c2d3822b",
   "metadata": {
    "ExecuteTime": {
     "end_time": "2022-09-17T17:52:20.402131Z",
     "start_time": "2022-09-17T17:52:20.350431Z"
    },
    "execution": {
     "iopub.execute_input": "2022-09-18T03:33:35.354703Z",
     "iopub.status.busy": "2022-09-18T03:33:35.354405Z",
     "iopub.status.idle": "2022-09-18T03:33:35.455276Z",
     "shell.execute_reply": "2022-09-18T03:33:35.454342Z"
    },
    "papermill": {
     "duration": 0.114361,
     "end_time": "2022-09-18T03:33:35.457533",
     "exception": false,
     "start_time": "2022-09-18T03:33:35.343172",
     "status": "completed"
    },
    "tags": []
   },
   "outputs": [],
   "source": [
    "data_set = MyDataset(df_train)"
   ]
  },
  {
   "cell_type": "code",
   "execution_count": 17,
   "id": "1319c6e7",
   "metadata": {
    "ExecuteTime": {
     "end_time": "2022-09-17T17:52:23.387669Z",
     "start_time": "2022-09-17T17:52:23.382785Z"
    },
    "execution": {
     "iopub.execute_input": "2022-09-18T03:33:35.479685Z",
     "iopub.status.busy": "2022-09-18T03:33:35.479394Z",
     "iopub.status.idle": "2022-09-18T03:33:35.484297Z",
     "shell.execute_reply": "2022-09-18T03:33:35.483203Z"
    },
    "papermill": {
     "duration": 0.018573,
     "end_time": "2022-09-18T03:33:35.486669",
     "exception": false,
     "start_time": "2022-09-18T03:33:35.468096",
     "status": "completed"
    },
    "tags": []
   },
   "outputs": [],
   "source": [
    "batch_size = 64\n",
    "data_loader = torch.utils.data.DataLoader(dataset = data_set,\n",
    "                                          batch_size = batch_size,\n",
    "                                          shuffle = True)"
   ]
  },
  {
   "cell_type": "code",
   "execution_count": 18,
   "id": "fd0d9faa",
   "metadata": {
    "ExecuteTime": {
     "end_time": "2022-09-11T04:11:05.481944Z",
     "start_time": "2022-09-11T03:38:35.358316Z"
    },
    "execution": {
     "iopub.execute_input": "2022-09-18T03:33:35.508747Z",
     "iopub.status.busy": "2022-09-18T03:33:35.507907Z",
     "iopub.status.idle": "2022-09-18T03:34:29.429255Z",
     "shell.execute_reply": "2022-09-18T03:34:29.427793Z"
    },
    "papermill": {
     "duration": 53.935156,
     "end_time": "2022-09-18T03:34:29.432063",
     "exception": false,
     "start_time": "2022-09-18T03:33:35.496907",
     "status": "completed"
    },
    "scrolled": true,
    "tags": []
   },
   "outputs": [
    {
     "name": "stdout",
     "output_type": "stream",
     "text": [
      "********************* Model 2 Training ***************************\n",
      "Epoch 1 Starting\n",
      "Epoch 1 :: Batch 100 done :: Accuracy =  96.88%\n",
      "Epoch 1 :: Batch 200 done :: Accuracy =  95.31%\n",
      "Epoch 1 :: Batch 300 done :: Accuracy =  100.00%\n",
      "Epoch 1 :: Batch 400 done :: Accuracy =  96.88%\n",
      "Epoch 1 :: Batch 500 done :: Accuracy =  98.44%\n",
      "Epoch 1 Done with Avg Cost = 2.4080614301929018\n",
      "Epoch 2 Starting\n",
      "Epoch 2 :: Batch 100 done :: Accuracy =  100.00%\n",
      "Epoch 2 :: Batch 200 done :: Accuracy =  98.44%\n",
      "Epoch 2 :: Batch 300 done :: Accuracy =  98.44%\n",
      "Epoch 2 :: Batch 400 done :: Accuracy =  98.44%\n",
      "Epoch 2 :: Batch 500 done :: Accuracy =  100.00%\n",
      "Epoch 2 Done with Avg Cost = 0.7138511756529624\n",
      "Epoch 3 Starting\n",
      "Epoch 3 :: Batch 100 done :: Accuracy =  98.44%\n",
      "Epoch 3 :: Batch 200 done :: Accuracy =  100.00%\n",
      "Epoch 3 :: Batch 300 done :: Accuracy =  96.88%\n",
      "Epoch 3 :: Batch 400 done :: Accuracy =  96.88%\n",
      "Epoch 3 :: Batch 500 done :: Accuracy =  98.44%\n",
      "Epoch 3 Done with Avg Cost = 0.5804357640590752\n",
      "Epoch 4 Starting\n",
      "Epoch 4 :: Batch 100 done :: Accuracy =  98.44%\n",
      "Epoch 4 :: Batch 200 done :: Accuracy =  93.75%\n",
      "Epoch 4 :: Batch 300 done :: Accuracy =  98.44%\n",
      "Epoch 4 :: Batch 400 done :: Accuracy =  98.44%\n",
      "Epoch 4 :: Batch 500 done :: Accuracy =  98.44%\n",
      "Epoch 4 Done with Avg Cost = 0.5255247323352705\n",
      "Epoch 5 Starting\n",
      "Epoch 5 :: Batch 100 done :: Accuracy =  95.31%\n",
      "Epoch 5 :: Batch 200 done :: Accuracy =  98.44%\n",
      "Epoch 5 :: Batch 300 done :: Accuracy =  96.88%\n",
      "Epoch 5 :: Batch 400 done :: Accuracy =  100.00%\n",
      "Epoch 5 :: Batch 500 done :: Accuracy =  98.44%\n",
      "Epoch 5 Done with Avg Cost = 0.4714385570466675\n",
      "Epoch 6 Starting\n",
      "Epoch 6 :: Batch 100 done :: Accuracy =  96.88%\n",
      "Epoch 6 :: Batch 200 done :: Accuracy =  100.00%\n",
      "Epoch 6 :: Batch 300 done :: Accuracy =  100.00%\n",
      "Epoch 6 :: Batch 400 done :: Accuracy =  96.88%\n",
      "Epoch 6 :: Batch 500 done :: Accuracy =  98.44%\n",
      "Epoch 6 Done with Avg Cost = 0.379033777538325\n",
      "Epoch 7 Starting\n",
      "Epoch 7 :: Batch 100 done :: Accuracy =  100.00%\n",
      "Epoch 7 :: Batch 200 done :: Accuracy =  95.31%\n",
      "Epoch 7 :: Batch 300 done :: Accuracy =  98.44%\n",
      "Epoch 7 :: Batch 400 done :: Accuracy =  100.00%\n",
      "Epoch 7 :: Batch 500 done :: Accuracy =  98.44%\n",
      "Epoch 7 Done with Avg Cost = 0.4152319583939743\n",
      "Epoch 8 Starting\n",
      "Epoch 8 :: Batch 100 done :: Accuracy =  100.00%\n",
      "Epoch 8 :: Batch 200 done :: Accuracy =  100.00%\n",
      "Epoch 8 :: Batch 300 done :: Accuracy =  100.00%\n",
      "Epoch 8 :: Batch 400 done :: Accuracy =  98.44%\n",
      "Epoch 8 :: Batch 500 done :: Accuracy =  100.00%\n",
      "Epoch 8 Done with Avg Cost = 0.3486986019084952\n",
      "Epoch 9 Starting\n",
      "Epoch 9 :: Batch 100 done :: Accuracy =  100.00%\n",
      "Epoch 9 :: Batch 200 done :: Accuracy =  100.00%\n",
      "Epoch 9 :: Batch 300 done :: Accuracy =  100.00%\n",
      "Epoch 9 :: Batch 400 done :: Accuracy =  98.44%\n",
      "Epoch 9 :: Batch 500 done :: Accuracy =  100.00%\n",
      "Epoch 9 Done with Avg Cost = 0.3640958784162649\n",
      "Epoch 10 Starting\n",
      "Epoch 10 :: Batch 100 done :: Accuracy =  98.44%\n",
      "Epoch 10 :: Batch 200 done :: Accuracy =  100.00%\n",
      "Epoch 10 :: Batch 300 done :: Accuracy =  100.00%\n",
      "Epoch 10 :: Batch 400 done :: Accuracy =  98.44%\n",
      "Epoch 10 :: Batch 500 done :: Accuracy =  95.31%\n",
      "Epoch 10 Done with Avg Cost = 0.31662629185308333\n",
      "Epoch 11 Starting\n",
      "Epoch 11 :: Batch 100 done :: Accuracy =  98.44%\n",
      "Epoch 11 :: Batch 200 done :: Accuracy =  98.44%\n",
      "Epoch 11 :: Batch 300 done :: Accuracy =  100.00%\n",
      "Epoch 11 :: Batch 400 done :: Accuracy =  100.00%\n",
      "Epoch 11 :: Batch 500 done :: Accuracy =  100.00%\n",
      "Epoch 11 Done with Avg Cost = 0.37233803706569546\n",
      "Epoch 12 Starting\n",
      "Epoch 12 :: Batch 100 done :: Accuracy =  100.00%\n",
      "Epoch 12 :: Batch 200 done :: Accuracy =  98.44%\n",
      "Epoch 12 :: Batch 300 done :: Accuracy =  98.44%\n",
      "Epoch 12 :: Batch 400 done :: Accuracy =  98.44%\n",
      "Epoch 12 :: Batch 500 done :: Accuracy =  98.44%\n",
      "Epoch 12 Done with Avg Cost = 0.371149059095103\n",
      "Epoch 13 Starting\n",
      "Epoch 13 :: Batch 100 done :: Accuracy =  100.00%\n",
      "Epoch 13 :: Batch 200 done :: Accuracy =  100.00%\n",
      "Epoch 13 :: Batch 300 done :: Accuracy =  100.00%\n",
      "Epoch 13 :: Batch 400 done :: Accuracy =  100.00%\n",
      "Epoch 13 :: Batch 500 done :: Accuracy =  96.88%\n",
      "Epoch 13 Done with Avg Cost = 0.28817927340978144\n",
      "Epoch 14 Starting\n",
      "Epoch 14 :: Batch 100 done :: Accuracy =  98.44%\n",
      "Epoch 14 :: Batch 200 done :: Accuracy =  98.44%\n",
      "Epoch 14 :: Batch 300 done :: Accuracy =  100.00%\n",
      "Epoch 14 :: Batch 400 done :: Accuracy =  100.00%\n",
      "Epoch 14 :: Batch 500 done :: Accuracy =  96.88%\n",
      "Epoch 14 Done with Avg Cost = 0.28686043741137723\n",
      "Epoch 15 Starting\n",
      "Epoch 15 :: Batch 100 done :: Accuracy =  98.44%\n",
      "Epoch 15 :: Batch 200 done :: Accuracy =  100.00%\n",
      "Epoch 15 :: Batch 300 done :: Accuracy =  100.00%\n",
      "Epoch 15 :: Batch 400 done :: Accuracy =  98.44%\n",
      "Epoch 15 :: Batch 500 done :: Accuracy =  100.00%\n",
      "Epoch 15 Done with Avg Cost = 0.27490344095120633\n"
     ]
    }
   ],
   "source": [
    "print(\"\"\"********************* Model 2 Training ***************************\"\"\")\n",
    "learning_rate = 0.001\n",
    "\n",
    "criterion = torch.nn.CrossEntropyLoss()\n",
    "optimizer = torch.optim.Adam(params = model.parameters(), lr = learning_rate)\n",
    "\n",
    "epochs = 15 \n",
    "train_acc = []\n",
    "train_cost = []\n",
    "\n",
    "for epoch in range(epochs):\n",
    "    avg_cost = 0\n",
    "    print(f\"Epoch {epoch + 1} Starting\")\n",
    "    for batch_no, (batch_x, batch_y) in enumerate(data_loader, start = 1):\n",
    "        if batch_x.size()[0] < batch_size : continue\n",
    "        \n",
    "        X_train = Variable(batch_x).reshape(batch_size, 1, 28, 28).to(device) # reshaping the input tensor \n",
    "        Y_train = Variable(batch_y)\n",
    "        Y_train = Y_train.type(torch.LongTensor).to(device)\n",
    "        \n",
    "        optimizer.zero_grad() # zeroing the gradients\n",
    "        \n",
    "        hypothesis = model(X_train) # making a forward pass\n",
    "        \n",
    "        cost = criterion(hypothesis, Y_train) # caculating the cost\n",
    "        \n",
    "        cost.backward() # making a backward pass\n",
    "        \n",
    "        optimizer.step() # updating the parameters\n",
    "        \n",
    "        batch_accuracy = compute_accuracy(Y_train, hypothesis) # Calculating Batch Accuracy\n",
    "        \n",
    "        train_acc.append(batch_accuracy)\n",
    "        train_cost.append(cost.item())\n",
    "        \n",
    "        if batch_no % 100 == 0 :\n",
    "            print(f\"Epoch {epoch + 1} :: Batch {batch_no} done :: Accuracy = {batch_accuracy : .2%}\")\n",
    "        \n",
    "        avg_cost += cost.item() / batch_size\n",
    "        \n",
    "    print(f\"Epoch {epoch + 1} Done with Avg Cost = {avg_cost}\")\n"
   ]
  },
  {
   "cell_type": "code",
   "execution_count": 19,
   "id": "44f44ba4",
   "metadata": {
    "execution": {
     "iopub.execute_input": "2022-09-18T03:34:29.463396Z",
     "iopub.status.busy": "2022-09-18T03:34:29.463119Z",
     "iopub.status.idle": "2022-09-18T03:34:29.471028Z",
     "shell.execute_reply": "2022-09-18T03:34:29.470150Z"
    },
    "papermill": {
     "duration": 0.025568,
     "end_time": "2022-09-18T03:34:29.472954",
     "exception": false,
     "start_time": "2022-09-18T03:34:29.447386",
     "status": "completed"
    },
    "tags": []
   },
   "outputs": [],
   "source": [
    "def prediction_function(self, batch_size, model):\n",
    "    max_rows = self.shape[0]\n",
    "    Y_pred = []\n",
    "    \n",
    "    iter_length = batch_size\n",
    "    \n",
    "    i_start = 0\n",
    "    i_end = i_start + iter_length\n",
    "\n",
    "    while i_start != i_end:\n",
    "        res = model(torch.tensor(self.iloc[i_start:i_end].values, dtype = torch.float32).reshape(i_end-i_start, 1, 28, 28).to(device)) \n",
    "        res = res.data.max(dim=1)[1]\n",
    "\n",
    "        # res_append\n",
    "        Y_pred.extend(res)\n",
    "\n",
    "        if i_end%(iter_length*50) == 0: print(f\"{i_end} rows done!\")\n",
    "\n",
    "        # increment the indexes\n",
    "        i_start = i_end\n",
    "        i_end = i_start + iter_length\n",
    "        if i_end > max_rows:\n",
    "            i_end = max_rows\n",
    "    print(\"All rows done!\")\n",
    "    \n",
    "    return torch.tensor(Y_pred).to(device)\n",
    "\n",
    "pd.DataFrame.prediction_function = prediction_function"
   ]
  },
  {
   "cell_type": "code",
   "execution_count": 20,
   "id": "5b7c52be",
   "metadata": {
    "execution": {
     "iopub.execute_input": "2022-09-18T03:34:29.504796Z",
     "iopub.status.busy": "2022-09-18T03:34:29.504457Z",
     "iopub.status.idle": "2022-09-18T03:34:30.764366Z",
     "shell.execute_reply": "2022-09-18T03:34:30.763393Z"
    },
    "papermill": {
     "duration": 1.279014,
     "end_time": "2022-09-18T03:34:30.766662",
     "exception": false,
     "start_time": "2022-09-18T03:34:29.487648",
     "status": "completed"
    },
    "tags": []
   },
   "outputs": [
    {
     "name": "stdout",
     "output_type": "stream",
     "text": [
      "3200 rows done!\n",
      "6400 rows done!\n",
      "9600 rows done!\n",
      "12800 rows done!\n",
      "16000 rows done!\n",
      "19200 rows done!\n",
      "22400 rows done!\n",
      "25600 rows done!\n",
      "28800 rows done!\n",
      "32000 rows done!\n",
      "35200 rows done!\n",
      "All rows done!\n"
     ]
    }
   ],
   "source": [
    "Y_pred_train = df_train.iloc[:,1:].prediction_function(64, model)"
   ]
  },
  {
   "cell_type": "code",
   "execution_count": 21,
   "id": "614f20c5",
   "metadata": {
    "ExecuteTime": {
     "end_time": "2022-09-11T04:13:27.664995Z",
     "start_time": "2022-09-11T04:12:20.293109Z"
    },
    "execution": {
     "iopub.execute_input": "2022-09-18T03:34:30.801016Z",
     "iopub.status.busy": "2022-09-18T03:34:30.799286Z",
     "iopub.status.idle": "2022-09-18T03:34:30.804424Z",
     "shell.execute_reply": "2022-09-18T03:34:30.803413Z"
    },
    "jupyter": {
     "source_hidden": true
    },
    "papermill": {
     "duration": 0.024607,
     "end_time": "2022-09-18T03:34:30.806829",
     "exception": false,
     "start_time": "2022-09-18T03:34:30.782222",
     "status": "completed"
    },
    "tags": []
   },
   "outputs": [],
   "source": [
    "# Y_pred_train = model_2(torch.tensor(df_train.iloc[:,1:].values, dtype = torch.float32).reshape(df_train.shape[0], 1, 28, 28)) "
   ]
  },
  {
   "cell_type": "code",
   "execution_count": 22,
   "id": "bc907480",
   "metadata": {
    "ExecuteTime": {
     "end_time": "2022-09-11T04:13:35.129777Z",
     "start_time": "2022-09-11T04:13:31.901155Z"
    },
    "execution": {
     "iopub.execute_input": "2022-09-18T03:34:30.840219Z",
     "iopub.status.busy": "2022-09-18T03:34:30.839915Z",
     "iopub.status.idle": "2022-09-18T03:34:30.844066Z",
     "shell.execute_reply": "2022-09-18T03:34:30.843117Z"
    },
    "jupyter": {
     "source_hidden": true
    },
    "papermill": {
     "duration": 0.022898,
     "end_time": "2022-09-18T03:34:30.845963",
     "exception": false,
     "start_time": "2022-09-18T03:34:30.823065",
     "status": "completed"
    },
    "tags": []
   },
   "outputs": [],
   "source": [
    "# Y_pred_test = model_2(torch.tensor(df_test.iloc[:,1:].values, dtype = torch.float32).reshape(df_test.shape[0], 1, 28, 28).to(device)).data.max(dim=1)[1]"
   ]
  },
  {
   "cell_type": "code",
   "execution_count": 23,
   "id": "df73e19c",
   "metadata": {
    "ExecuteTime": {
     "end_time": "2022-09-11T01:36:32.389394Z",
     "start_time": "2022-09-11T01:36:32.389387Z"
    },
    "execution": {
     "iopub.execute_input": "2022-09-18T03:34:30.878165Z",
     "iopub.status.busy": "2022-09-18T03:34:30.877865Z",
     "iopub.status.idle": "2022-09-18T03:34:30.881917Z",
     "shell.execute_reply": "2022-09-18T03:34:30.880974Z"
    },
    "jupyter": {
     "source_hidden": true
    },
    "papermill": {
     "duration": 0.022039,
     "end_time": "2022-09-18T03:34:30.883954",
     "exception": false,
     "start_time": "2022-09-18T03:34:30.861915",
     "status": "completed"
    },
    "tags": []
   },
   "outputs": [],
   "source": [
    "# Y_pred = Y_pred.data.max(dim=1)[1]"
   ]
  },
  {
   "cell_type": "code",
   "execution_count": 24,
   "id": "03eb4f44",
   "metadata": {
    "execution": {
     "iopub.execute_input": "2022-09-18T03:34:30.915351Z",
     "iopub.status.busy": "2022-09-18T03:34:30.915059Z",
     "iopub.status.idle": "2022-09-18T03:34:31.059095Z",
     "shell.execute_reply": "2022-09-18T03:34:31.057735Z"
    },
    "papermill": {
     "duration": 0.162471,
     "end_time": "2022-09-18T03:34:31.061377",
     "exception": false,
     "start_time": "2022-09-18T03:34:30.898906",
     "status": "completed"
    },
    "tags": []
   },
   "outputs": [
    {
     "name": "stdout",
     "output_type": "stream",
     "text": [
      "3200 rows done!\n",
      "All rows done!\n"
     ]
    }
   ],
   "source": [
    "Y_pred_test = df_test.iloc[:,1:].prediction_function(64, model)"
   ]
  },
  {
   "cell_type": "code",
   "execution_count": 25,
   "id": "7870ff08",
   "metadata": {
    "ExecuteTime": {
     "end_time": "2022-09-11T04:13:40.464972Z",
     "start_time": "2022-09-11T04:13:40.453028Z"
    },
    "execution": {
     "iopub.execute_input": "2022-09-18T03:34:31.094646Z",
     "iopub.status.busy": "2022-09-18T03:34:31.094366Z",
     "iopub.status.idle": "2022-09-18T03:34:31.099779Z",
     "shell.execute_reply": "2022-09-18T03:34:31.098891Z"
    },
    "papermill": {
     "duration": 0.024031,
     "end_time": "2022-09-18T03:34:31.101688",
     "exception": false,
     "start_time": "2022-09-18T03:34:31.077657",
     "status": "completed"
    },
    "tags": []
   },
   "outputs": [],
   "source": [
    "Y_train = torch.tensor(df_train.iloc[:,0].values, dtype = torch.int32).type(torch.LongTensor).to(device)"
   ]
  },
  {
   "cell_type": "code",
   "execution_count": 26,
   "id": "e345ec84",
   "metadata": {
    "ExecuteTime": {
     "end_time": "2022-09-11T04:13:40.981120Z",
     "start_time": "2022-09-11T04:13:40.963207Z"
    },
    "execution": {
     "iopub.execute_input": "2022-09-18T03:34:31.138008Z",
     "iopub.status.busy": "2022-09-18T03:34:31.137469Z",
     "iopub.status.idle": "2022-09-18T03:34:31.147924Z",
     "shell.execute_reply": "2022-09-18T03:34:31.146778Z"
    },
    "papermill": {
     "duration": 0.034534,
     "end_time": "2022-09-18T03:34:31.151180",
     "exception": false,
     "start_time": "2022-09-18T03:34:31.116646",
     "status": "completed"
    },
    "tags": []
   },
   "outputs": [],
   "source": [
    "Y_test = torch.tensor(df_test.iloc[:,0].values, dtype = torch.int32).type(torch.LongTensor).to(device)"
   ]
  },
  {
   "cell_type": "code",
   "execution_count": 27,
   "id": "e559e4d5",
   "metadata": {
    "ExecuteTime": {
     "end_time": "2022-09-11T04:13:41.978327Z",
     "start_time": "2022-09-11T04:13:41.968282Z"
    },
    "execution": {
     "iopub.execute_input": "2022-09-18T03:34:31.212155Z",
     "iopub.status.busy": "2022-09-18T03:34:31.211616Z",
     "iopub.status.idle": "2022-09-18T03:34:31.223306Z",
     "shell.execute_reply": "2022-09-18T03:34:31.220835Z"
    },
    "papermill": {
     "duration": 0.047076,
     "end_time": "2022-09-18T03:34:31.227059",
     "exception": false,
     "start_time": "2022-09-18T03:34:31.179983",
     "status": "completed"
    },
    "tags": []
   },
   "outputs": [
    {
     "name": "stdout",
     "output_type": "stream",
     "text": [
      "Accuracy for the train set is =  99.36%\n",
      "Accuracy for the test set is =  98.55%\n"
     ]
    }
   ],
   "source": [
    "print(f\"Accuracy for the train set is = {compute_accuracy_no_calc(Y_train, Y_pred_train) : .2%}\")\n",
    "print(f\"Accuracy for the test set is = {compute_accuracy_no_calc(Y_test, Y_pred_test) : .2%}\")\n",
    "# Model1 - 99.46 % and 98.36 %, 1.1% difference\n",
    "# Model2 - 99.28 % and 98.81 %, 0.47% difference"
   ]
  },
  {
   "cell_type": "code",
   "execution_count": 28,
   "id": "362bc42d",
   "metadata": {
    "ExecuteTime": {
     "end_time": "2022-09-11T23:58:10.209441Z",
     "start_time": "2022-09-11T23:58:10.180633Z"
    },
    "execution": {
     "iopub.execute_input": "2022-09-18T03:34:31.283686Z",
     "iopub.status.busy": "2022-09-18T03:34:31.283349Z",
     "iopub.status.idle": "2022-09-18T03:34:31.287505Z",
     "shell.execute_reply": "2022-09-18T03:34:31.286669Z"
    },
    "jupyter": {
     "source_hidden": true
    },
    "papermill": {
     "duration": 0.033408,
     "end_time": "2022-09-18T03:34:31.291856",
     "exception": false,
     "start_time": "2022-09-18T03:34:31.258448",
     "status": "completed"
    },
    "tags": []
   },
   "outputs": [],
   "source": [
    "# file_path = f\"models/\"\n",
    "# model_name = \"CNN_2\"\n",
    "\n",
    "# # save\n",
    "# torch.save(model_2.state_dict(), f'{file_path}/{model_name}.pt')\n",
    "\n",
    "# # load\n",
    "# # model_2 = CNN_2(0.9)\n",
    "# # model_2.load_state_dict(torch.load(f'{file_path}/{model_name}.pt'))"
   ]
  },
  {
   "cell_type": "code",
   "execution_count": 29,
   "id": "24154c14",
   "metadata": {
    "ExecuteTime": {
     "end_time": "2022-09-11T04:14:47.141141Z",
     "start_time": "2022-09-11T04:14:46.942747Z"
    },
    "execution": {
     "iopub.execute_input": "2022-09-18T03:34:31.342152Z",
     "iopub.status.busy": "2022-09-18T03:34:31.341826Z",
     "iopub.status.idle": "2022-09-18T03:34:32.082301Z",
     "shell.execute_reply": "2022-09-18T03:34:32.081420Z"
    },
    "papermill": {
     "duration": 0.772821,
     "end_time": "2022-09-18T03:34:32.089030",
     "exception": false,
     "start_time": "2022-09-18T03:34:31.316209",
     "status": "completed"
    },
    "tags": []
   },
   "outputs": [
    {
     "data": {
      "image/png": "[encoded data removed]",
      "text/plain": [
       "<Figure size 1280x480 with 2 Axes>"
      ]
     },
     "metadata": {},
     "output_type": "display_data"
    }
   ],
   "source": [
    "# plt.figure(figsize=(8, 6), dpi=80)\n",
    "fig, axs = plt.subplots(ncols=2, figsize=(16, 6), dpi=80)\n",
    "p1, = axs[0].plot(train_cost, color = 'r')\n",
    "axs[0].set_title(\"cost\")\n",
    "p2, = axs[1].plot(train_acc, color = 'g')\n",
    "axs[1].set_title(\"accuracy\")\n",
    "# plt.legend([p1,p2], ['cost', 'accuracy'], loc = 'upper right')\n",
    "plt.show()"
   ]
  },
  {
   "cell_type": "code",
   "execution_count": 30,
   "id": "1326a6d0",
   "metadata": {
    "ExecuteTime": {
     "end_time": "2022-09-11T04:15:21.349356Z",
     "start_time": "2022-09-11T04:15:21.185649Z"
    },
    "execution": {
     "iopub.execute_input": "2022-09-18T03:34:32.142350Z",
     "iopub.status.busy": "2022-09-18T03:34:32.141885Z",
     "iopub.status.idle": "2022-09-18T03:34:32.452185Z",
     "shell.execute_reply": "2022-09-18T03:34:32.451266Z"
    },
    "papermill": {
     "duration": 0.343992,
     "end_time": "2022-09-18T03:34:32.454795",
     "exception": false,
     "start_time": "2022-09-18T03:34:32.110803",
     "status": "completed"
    },
    "tags": []
   },
   "outputs": [
    {
     "data": {
      "text/plain": [
       "<matplotlib.image.AxesImage at 0x7f5038782350>"
      ]
     },
     "execution_count": 30,
     "metadata": {},
     "output_type": "execute_result"
    },
    {
     "data": {
      "image/png": "[encoded data removed]",
      "text/plain": [
       "<Figure size 432x288 with 1 Axes>"
      ]
     },
     "metadata": {},
     "output_type": "display_data"
    }
   ],
   "source": [
    "row = 1137\n",
    "# plt.title(f\"Label == {test.loc[row,'label']}\")\n",
    "X_test_sample = torch.tensor(df_test.iloc[row,1:].values, dtype = torch.float32).reshape(1,1,28,28).to(device)\n",
    "test_label = model(X_test_sample).data.max(dim=1)[1].item()\n",
    "plt.title(f\"True_Label == {df_test.iloc[row,0]} \\n Predicted Label == {test_label}\")\n",
    "plt.imshow(df_test.iloc[row,1:].values.reshape(28,28,1))"
   ]
  },
  {
   "cell_type": "code",
   "execution_count": 31,
   "id": "3de5bdc0",
   "metadata": {
    "ExecuteTime": {
     "end_time": "2022-09-11T04:16:12.479736Z",
     "start_time": "2022-09-11T04:16:12.468688Z"
    },
    "execution": {
     "iopub.execute_input": "2022-09-18T03:34:32.511497Z",
     "iopub.status.busy": "2022-09-18T03:34:32.511103Z",
     "iopub.status.idle": "2022-09-18T03:34:32.522902Z",
     "shell.execute_reply": "2022-09-18T03:34:32.522011Z"
    },
    "papermill": {
     "duration": 0.043485,
     "end_time": "2022-09-18T03:34:32.525826",
     "exception": false,
     "start_time": "2022-09-18T03:34:32.482341",
     "status": "completed"
    },
    "tags": []
   },
   "outputs": [],
   "source": [
    "test = df_test.iloc[:,0].to_frame()\n",
    "test['pixels'] = list(df_test.iloc[:,1:].values)"
   ]
  },
  {
   "cell_type": "code",
   "execution_count": 32,
   "id": "dc8cda8d",
   "metadata": {
    "ExecuteTime": {
     "end_time": "2022-09-11T04:16:27.485945Z",
     "start_time": "2022-09-11T04:16:24.494412Z"
    },
    "execution": {
     "iopub.execute_input": "2022-09-18T03:34:32.584113Z",
     "iopub.status.busy": "2022-09-18T03:34:32.583663Z",
     "iopub.status.idle": "2022-09-18T03:34:32.784453Z",
     "shell.execute_reply": "2022-09-18T03:34:32.783573Z"
    },
    "papermill": {
     "duration": 0.232087,
     "end_time": "2022-09-18T03:34:32.787094",
     "exception": false,
     "start_time": "2022-09-18T03:34:32.555007",
     "status": "completed"
    },
    "tags": []
   },
   "outputs": [
    {
     "name": "stdout",
     "output_type": "stream",
     "text": [
      "3200 rows done!\n",
      "All rows done!\n"
     ]
    }
   ],
   "source": [
    "test['pred_label_model_2'] = df_test.iloc[:,1:].prediction_function(64, model).tolist()"
   ]
  },
  {
   "cell_type": "code",
   "execution_count": 33,
   "id": "0df36851",
   "metadata": {
    "ExecuteTime": {
     "end_time": "2022-09-11T04:30:03.860624Z",
     "start_time": "2022-09-11T04:30:03.850286Z"
    },
    "execution": {
     "iopub.execute_input": "2022-09-18T03:34:32.839980Z",
     "iopub.status.busy": "2022-09-18T03:34:32.839592Z",
     "iopub.status.idle": "2022-09-18T03:34:32.852519Z",
     "shell.execute_reply": "2022-09-18T03:34:32.851655Z"
    },
    "papermill": {
     "duration": 0.042404,
     "end_time": "2022-09-18T03:34:32.855038",
     "exception": false,
     "start_time": "2022-09-18T03:34:32.812634",
     "status": "completed"
    },
    "tags": []
   },
   "outputs": [],
   "source": [
    "rows = iter(test.query(\"(label != pred_label_model_2) and label == 2\").index)\n",
    "# rows = iter(test.index)\n",
    "# print(list(rows), len(list(rows)))"
   ]
  },
  {
   "cell_type": "code",
   "execution_count": 34,
   "id": "0d77e4b2",
   "metadata": {
    "ExecuteTime": {
     "end_time": "2022-09-11T04:30:05.052575Z",
     "start_time": "2022-09-11T04:30:04.914812Z"
    },
    "code_folding": [],
    "execution": {
     "iopub.execute_input": "2022-09-18T03:34:32.908609Z",
     "iopub.status.busy": "2022-09-18T03:34:32.908192Z",
     "iopub.status.idle": "2022-09-18T03:34:33.111938Z",
     "shell.execute_reply": "2022-09-18T03:34:33.111012Z"
    },
    "papermill": {
     "duration": 0.23288,
     "end_time": "2022-09-18T03:34:33.114222",
     "exception": false,
     "start_time": "2022-09-18T03:34:32.881342",
     "status": "completed"
    },
    "tags": []
   },
   "outputs": [
    {
     "data": {
      "image/png": "[encoded data removed]",
      "text/plain": [
       "<Figure size 720x720 with 1 Axes>"
      ]
     },
     "metadata": {},
     "output_type": "display_data"
    }
   ],
   "source": [
    "plt.figure(figsize=(10,10)) # specifying the overall grid size\n",
    "\n",
    "for i in range(25):\n",
    "    row = next(rows,\"invalid\")\n",
    "    if row != 'invalid' :\n",
    "#     X_test_sample = torch.tensor(test.loc[row, 'pixels'], dtype = torch.float32).reshape(1,1,28,28)\n",
    "#     predicted_label_sample = model(X_test_sample).max(dim = 1)[1]\n",
    "\n",
    "        plt.subplot(5,5,i+1) # the number of images in the grid is 5*5 (25)\n",
    "        plt.title(f\"Label == {test.loc[row,'label']} \\n\\\n",
    "        Predicted_Label_M2 == {test.loc[row,'pred_label_model_2']}\", y = -0.3)\n",
    "\n",
    "        plt.imshow(test.loc[row,'pixels'].reshape(28,28,1))\n",
    "    plt.axis('off')\n",
    "\n",
    "    \n",
    "plt.subplots_adjust(left=0.2,\n",
    "                    bottom=0.2, \n",
    "                    right=1.4, \n",
    "                    top=1.4, \n",
    "                    wspace=0.1, \n",
    "                    hspace=0.1)\n",
    "plt.show()"
   ]
  },
  {
   "cell_type": "markdown",
   "id": "e95cc56d",
   "metadata": {
    "ExecuteTime": {
     "end_time": "2022-09-11T22:32:58.846557Z",
     "start_time": "2022-09-11T22:32:58.785824Z"
    },
    "papermill": {
     "duration": 0.016425,
     "end_time": "2022-09-18T03:34:33.160361",
     "exception": false,
     "start_time": "2022-09-18T03:34:33.143936",
     "status": "completed"
    },
    "tags": []
   },
   "source": [
    "### Conclusions and Submission"
   ]
  },
  {
   "cell_type": "code",
   "execution_count": 35,
   "id": "e3a15335",
   "metadata": {
    "ExecuteTime": {
     "end_time": "2022-09-11T22:52:30.792668Z",
     "start_time": "2022-09-11T22:52:30.782126Z"
    },
    "execution": {
     "iopub.execute_input": "2022-09-18T03:34:33.194492Z",
     "iopub.status.busy": "2022-09-18T03:34:33.194138Z",
     "iopub.status.idle": "2022-09-18T03:34:33.200379Z",
     "shell.execute_reply": "2022-09-18T03:34:33.199432Z"
    },
    "papermill": {
     "duration": 0.026679,
     "end_time": "2022-09-18T03:34:33.203037",
     "exception": false,
     "start_time": "2022-09-18T03:34:33.176358",
     "status": "completed"
    },
    "tags": []
   },
   "outputs": [
    {
     "name": "stdout",
     "output_type": "stream",
     "text": [
      "Total Parameters in Model          :  1,043,400\n",
      "Total Trainable Parameters in Model 2 :  1,043,400\n"
     ]
    }
   ],
   "source": [
    "print(f\"Total Parameters in Model          : {sum(p.numel() for p in model.parameters()) : ,}\")\n",
    "print(f\"Total Trainable Parameters in Model 2 : {sum(p.numel() for p in model.parameters() if p.requires_grad) : ,}\")"
   ]
  },
  {
   "cell_type": "markdown",
   "id": "653260c8",
   "metadata": {
    "ExecuteTime": {
     "end_time": "2022-09-11T22:46:01.525885Z",
     "start_time": "2022-09-11T22:46:01.513665Z"
    },
    "papermill": {
     "duration": 0.015938,
     "end_time": "2022-09-18T03:34:33.235117",
     "exception": false,
     "start_time": "2022-09-18T03:34:33.219179",
     "status": "completed"
    },
    "tags": []
   },
   "source": [
    "Before this architecture, I had tried one with no pooling layer, smaller batch-size and no padding. That architecture had more than 6 M trainable parameters. The architecture is as follows. You can try for yourselves.\n",
    "\n",
    "```python\n",
    "class CNN_2(torch.nn.Module):\n",
    "    \n",
    "    def __init__(self, keep_prob):\n",
    "        \n",
    "        super(CNN_2, self).__init__()\n",
    "        \n",
    "        self.keep_prob = keep_prob\n",
    "        # Layer 1\n",
    "        # I : (?, 1, 28, 28)\n",
    "        # O : (?, 32, 14,14)\n",
    "        # size(o) : (n + 2p - f)/s + 1\n",
    "        self.cnn_layer_1 = torch.nn.Sequential(torch.nn.Conv2d(1, 32, kernel_size = 3, padding = 1, stride = 1),\n",
    "                                               torch.nn.ReLU(),\n",
    "                                               torch.nn.MaxPool2d(kernel_size = 2, stride = 2),\n",
    "                                               torch.nn.Dropout(p = 1 - self.keep_prob)\n",
    "                                              )\n",
    "        \n",
    "        # Layer 2\n",
    "        # I : (?, 32, 14, 14)\n",
    "        # O : (?, 64, 7, 7)\n",
    "        # size(o) : (n + 2p - f)/s + 1\n",
    "        self.cnn_layer_2 = torch.nn.Sequential(torch.nn.Conv2d(32, 64, kernel_size = 3, padding = 1, stride = 1),\n",
    "                                               torch.nn.ReLU(),\n",
    "                                               torch.nn.MaxPool2d(kernel_size = 2, stride = 2),\n",
    "                                               torch.nn.Dropout(p = 1 - self.keep_prob)\n",
    "                                              )\n",
    "        \n",
    "        # Layer 3\n",
    "        # I : (?, 64, 7, 7)\n",
    "        # O : (?, 128, 7, 7)\n",
    "        # size(o) : (n + 2p - f)/s + 1\n",
    "        self.cnn_layer_3 = torch.nn.Sequential(torch.nn.Conv2d(64, 128, kernel_size = 3, padding = 1, stride = 1),\n",
    "                                               torch.nn.ReLU(),\n",
    "                                               torch.nn.Dropout(p = 1 - self.keep_prob)\n",
    "                                              )\n",
    "        \n",
    "        # Layer 4\n",
    "        # I : (?, 128, 7, 7)\n",
    "        # O : (?, 256, 2, 2)\n",
    "        # size(o) : (n + 2p - f)/s + 1\n",
    "        self.cnn_layer_4 = torch.nn.Sequential(torch.nn.Conv2d(128, 256, kernel_size = 3, padding = 1, stride = 2),\n",
    "                                               torch.nn.ReLU(),\n",
    "                                               torch.nn.MaxPool2d(kernel_size = 2, stride = 2),\n",
    "                                               torch.nn.Dropout(p = 1 - self.keep_prob)\n",
    "                                              )\n",
    "        \n",
    "        # Layer 5\n",
    "        # I : (?, 256, 2, 2)\n",
    "        # O : (?, 1024)\n",
    "        self.flatten_layer_1 = torch.nn.Sequential(torch.nn.Flatten())\n",
    "        \n",
    "        \n",
    "        # Layer 6\n",
    "        # I : (?, 1024)\n",
    "        # O : (?, 512)\n",
    "        self.fc_layer_1 = torch.nn.Sequential(torch.nn.Linear(1024, 512),\n",
    "                                              torch.nn.ReLU(),\n",
    "                                              torch.nn.Dropout(p = 1 - self.keep_prob)\n",
    "                                             )\n",
    "\n",
    "        # Layer 7\n",
    "        # I : (?, 512)\n",
    "        # O : (?, 250)\n",
    "        self.fc_layer_2 = torch.nn.Sequential(torch.nn.Linear(512, 250),\n",
    "                                              torch.nn.ReLU(),\n",
    "                                              torch.nn.Dropout(p = 1 - self.keep_prob)\n",
    "                                             )\n",
    "        \n",
    "        # Layer 8\n",
    "        # I : (?, 512)\n",
    "        # O : (?, 250)\n",
    "        self.fc_layer_3 = torch.nn.Sequential(torch.nn.Linear(250, 10))\n",
    "        \n",
    "    \n",
    "    def forward(self,x):\n",
    "        a = self.cnn_layer_1(x)\n",
    "        a = self.cnn_layer_2(a)\n",
    "        a = self.cnn_layer_3(a)\n",
    "        a = self.cnn_layer_4(a)\n",
    "        a = self.flatten_layer_1(a)\n",
    "        a = self.fc_layer_1(a)\n",
    "        a = self.fc_layer_2(a)\n",
    "        a = self.fc_layer_3(a)\n",
    "        \n",
    "        return a\n",
    "```\n",
    "\n",
    "Following conclusions can be derived from the second model:\n",
    "1. Adding some elemets (pooling layers) greatly reduced the size of architecture, thereby reducing the number of trainable parameters\n",
    "2. Smaller architecture helped in a reduction in training time from 1hr 54mins to 32 mins on CPU ( Here I have used GPU so the difference is little)\n",
    "3. Adding dropout in various layers reduced overfitting as the new model has only a differenceof 0.47% between test and train as compared to the older's 1.1%\n",
    "4. Overall, the second model is better as it is less overfitting\n",
    "\n",
    "Some more things that can be tried:\n",
    "1. Further reducing the network size\n",
    "2. Experimenting with initialization of weights \n",
    "3. Addition of Validation Set in the training \n",
    "\n",
    "References: I have followed this [Tutorial](https://towardsdatascience.com/convolutional-neural-network-for-image-classification-with-implementation-on-python-using-pytorch-7b88342c9ca9) by Amine Hadj-Youcef."
   ]
  },
  {
   "cell_type": "code",
   "execution_count": 36,
   "id": "b4dbdf2d",
   "metadata": {
    "ExecuteTime": {
     "end_time": "2022-09-11T22:58:58.441546Z",
     "start_time": "2022-09-11T22:58:08.902083Z"
    },
    "execution": {
     "iopub.execute_input": "2022-09-18T03:34:33.269833Z",
     "iopub.status.busy": "2022-09-18T03:34:33.268850Z",
     "iopub.status.idle": "2022-09-18T03:34:34.348526Z",
     "shell.execute_reply": "2022-09-18T03:34:34.347478Z"
    },
    "papermill": {
     "duration": 1.099808,
     "end_time": "2022-09-18T03:34:34.351198",
     "exception": false,
     "start_time": "2022-09-18T03:34:33.251390",
     "status": "completed"
    },
    "tags": []
   },
   "outputs": [
    {
     "name": "stdout",
     "output_type": "stream",
     "text": [
      "3200 rows done!\n",
      "6400 rows done!\n",
      "9600 rows done!\n",
      "12800 rows done!\n",
      "16000 rows done!\n",
      "19200 rows done!\n",
      "22400 rows done!\n",
      "25600 rows done!\n",
      "All rows done!\n"
     ]
    }
   ],
   "source": [
    "submission_pred = df_submission.prediction_function(64, model).tolist()"
   ]
  },
  {
   "cell_type": "code",
   "execution_count": 37,
   "id": "f676ba8d",
   "metadata": {
    "ExecuteTime": {
     "end_time": "2022-09-11T23:09:26.119478Z",
     "start_time": "2022-09-11T23:09:26.090329Z"
    },
    "execution": {
     "iopub.execute_input": "2022-09-18T03:34:34.388793Z",
     "iopub.status.busy": "2022-09-18T03:34:34.386943Z",
     "iopub.status.idle": "2022-09-18T03:34:34.408620Z",
     "shell.execute_reply": "2022-09-18T03:34:34.407670Z"
    },
    "papermill": {
     "duration": 0.042256,
     "end_time": "2022-09-18T03:34:34.410927",
     "exception": false,
     "start_time": "2022-09-18T03:34:34.368671",
     "status": "completed"
    },
    "tags": []
   },
   "outputs": [
    {
     "data": {
      "text/html": [
       "<div>\n",
       "<style scoped>\n",
       "    .dataframe tbody tr th:only-of-type {\n",
       "        vertical-align: middle;\n",
       "    }\n",
       "\n",
       "    .dataframe tbody tr th {\n",
       "        vertical-align: top;\n",
       "    }\n",
       "\n",
       "    .dataframe thead th {\n",
       "        text-align: right;\n",
       "    }\n",
       "</style>\n",
       "<table border=\"1\" class=\"dataframe\">\n",
       "  <thead>\n",
       "    <tr style=\"text-align: right;\">\n",
       "      <th></th>\n",
       "      <th>ImageId</th>\n",
       "      <th>Label</th>\n",
       "    </tr>\n",
       "  </thead>\n",
       "  <tbody>\n",
       "    <tr>\n",
       "      <th>0</th>\n",
       "      <td>1</td>\n",
       "      <td>2</td>\n",
       "    </tr>\n",
       "    <tr>\n",
       "      <th>1</th>\n",
       "      <td>2</td>\n",
       "      <td>0</td>\n",
       "    </tr>\n",
       "    <tr>\n",
       "      <th>2</th>\n",
       "      <td>3</td>\n",
       "      <td>9</td>\n",
       "    </tr>\n",
       "    <tr>\n",
       "      <th>3</th>\n",
       "      <td>4</td>\n",
       "      <td>0</td>\n",
       "    </tr>\n",
       "    <tr>\n",
       "      <th>4</th>\n",
       "      <td>5</td>\n",
       "      <td>3</td>\n",
       "    </tr>\n",
       "  </tbody>\n",
       "</table>\n",
       "</div>"
      ],
      "text/plain": [
       "   ImageId  Label\n",
       "0        1      2\n",
       "1        2      0\n",
       "2        3      9\n",
       "3        4      0\n",
       "4        5      3"
      ]
     },
     "execution_count": 37,
     "metadata": {},
     "output_type": "execute_result"
    }
   ],
   "source": [
    "df_to_submit = pd.DataFrame(submission_pred, columns = ['Label'])\n",
    "df_to_submit = df_to_submit.rename_axis('ImageId', axis = 0).reset_index()\n",
    "df_to_submit['ImageId'] = df_to_submit['ImageId'] + 1\n",
    "df_to_submit.head()"
   ]
  },
  {
   "cell_type": "code",
   "execution_count": 38,
   "id": "983a140e",
   "metadata": {
    "execution": {
     "iopub.execute_input": "2022-09-18T03:34:34.445323Z",
     "iopub.status.busy": "2022-09-18T03:34:34.445041Z",
     "iopub.status.idle": "2022-09-18T03:34:34.476984Z",
     "shell.execute_reply": "2022-09-18T03:34:34.476065Z"
    },
    "papermill": {
     "duration": 0.051678,
     "end_time": "2022-09-18T03:34:34.479313",
     "exception": false,
     "start_time": "2022-09-18T03:34:34.427635",
     "status": "completed"
    },
    "tags": []
   },
   "outputs": [],
   "source": [
    "df_to_submit.to_csv(\"./submission.csv\", index = False)"
   ]
  },
  {
   "cell_type": "code",
   "execution_count": null,
   "id": "04cd2f1c",
   "metadata": {
    "papermill": {
     "duration": 0.016353,
     "end_time": "2022-09-18T03:34:34.512178",
     "exception": false,
     "start_time": "2022-09-18T03:34:34.495825",
     "status": "completed"
    },
    "tags": []
   },
   "outputs": [],
   "source": []
  }
 ],
 "metadata": {
  "kernelspec": {
   "display_name": "Python 3",
   "language": "python",
   "name": "python3"
  },
  "language_info": {
   "codemirror_mode": {
    "name": "ipython",
    "version": 3
   },
   "file_extension": ".py",
   "mimetype": "text/x-python",
   "name": "python",
   "nbconvert_exporter": "python",
   "pygments_lexer": "ipython3",
   "version": "3.7.12"
  },
  "papermill": {
   "default_parameters": {},
   "duration": 81.330914,
   "end_time": "2022-09-18T03:34:36.830934",
   "environment_variables": {},
   "exception": null,
   "input_path": "__notebook__.ipynb",
   "output_path": "__notebook__.ipynb",
   "parameters": {},
   "start_time": "2022-09-18T03:33:15.500020",
   "version": "2.3.4"
  }
 },
 "nbformat": 4,
 "nbformat_minor": 5
}
